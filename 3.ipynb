{
 "cells": [
  {
   "cell_type": "markdown",
   "metadata": {},
   "source": [
    "## 3 \n",
    "Is there a distinction when considering individuals of equal suitability, and does this affect our results? Moreover, does our outcome differ depending on whether we strictly prefer a superior candidate or are content with someone ranking equally to candidates we’ve previously encountered?"
   ]
  },
  {
   "cell_type": "markdown",
   "metadata": {},
   "source": [
    "Nemudoma se pojavi vprašanje, kako bomo določili oceno kandidatki? \n",
    "\n",
    "V realnem svetu bi vsaki kandidatki posebej dali oceno, ki si jo zasluži. Pri našem modelu je tako najbol smiselno, če vsaki kandidatki določimo naključno oceno od 1 do max_ocena. Seveda se v tem skriva 'napaka' realnosti, da lahko izbiramo med samimi enkami. \n",
    "\n",
    "Druga opcija je v realnem svetu manj verjetna, ampak bolj matematično konsistentna. Določimo, da imamo enako število kandidatk z oceno ena, dva, tri, ... vse do max_ocena. Torej poskrbimo, da je število vseh kandidatk z neko številko enaka.\n",
    "\n",
    "Če smo zgoraj obravnavali zgolj unitarne porazdelitve, bi lahko podobno naredili še z normalno porazdelitvijo ocen kandidatk (torej tistih z oceno 5 bo več kot tistih z oceno 1 ali 10).  "
   ]
  },
  {
   "cell_type": "markdown",
   "metadata": {},
   "source": [
    "Še naprej se lahko vprašamo, kako bo vplivala na zgornje porazdelitve, če se odločimo spreminjati max_oceno v povezavi z n (število kandidatk). "
   ]
  },
  {
   "cell_type": "markdown",
   "metadata": {},
   "source": [
    "Kar hočem povedati možnosti je res ogromno. Zato se bomo osredotočili le na par opcij"
   ]
  },
  {
   "cell_type": "markdown",
   "metadata": {},
   "source": [
    "## Realni svet  (max_ocena = n) \n"
   ]
  },
  {
   "cell_type": "markdown",
   "metadata": {},
   "source": [
    "Ob premisleku se mi zdi to najbol realno. "
   ]
  },
  {
   "cell_type": "code",
   "execution_count": 153,
   "metadata": {},
   "outputs": [],
   "source": [
    "n = 100 # število kandidatk\n",
    "m = 10000 #kolikokrat poženemo proces iskanja najbolšega partnerja\n",
    "\n",
    "max_ocena = n # Kandidatka ima oceno od 1 do max_ocena"
   ]
  },
  {
   "cell_type": "code",
   "execution_count": 154,
   "metadata": {},
   "outputs": [],
   "source": [
    "import numpy as np\n",
    "\n",
    "tabela_partnerjev = {}\n",
    "for i in range(m):\n",
    "    partnerji = np.random.randint(1, max_ocena+1, size=n)\n",
    "    tabela_partnerjev[i] = partnerji"
   ]
  },
  {
   "cell_type": "code",
   "execution_count": 155,
   "metadata": {},
   "outputs": [],
   "source": [
    "def NajbolsiPartner(partnerji, stop):\n",
    "    \"\"\"Funkcija, ki vrne izbranega partnerja izmed partnerjev, \n",
    "    če smo smo jih zavračali do stop partnerja.\"\"\"\n",
    "    # partnerji ... seznam partnerjev\n",
    "    # stop ... kdaj nehamo zavračati vse partnerje \n",
    "\n",
    "    vzorec = partnerji[:stop] #vključno s stop\n",
    "    poroka = partnerji[stop:]\n",
    "\n",
    "    najbolši = 0 \n",
    "    za_vedno = 0\n",
    "    for partner in vzorec:\n",
    "        if (partner > najbolši):\n",
    "            najbolši = partner\n",
    "   \n",
    "    for partner in poroka:\n",
    "        if (partner >= najbolši): #Spremenimo, da je tudi enako vredu\n",
    "            za_vedno = partner\n",
    "            break\n",
    "   \n",
    "    return za_vedno"
   ]
  },
  {
   "cell_type": "code",
   "execution_count": 156,
   "metadata": {},
   "outputs": [
    {
     "name": "stdout",
     "output_type": "stream",
     "text": [
      "0.5149\n"
     ]
    }
   ],
   "source": [
    "vsota = 0 \n",
    "for i in range(m):\n",
    "    najbolsa_nevesta = max(tabela_partnerjev[i])\n",
    "    if NajbolsiPartner(tabela_partnerjev[i], round(n * 0.36787944)) == najbolsa_nevesta :\n",
    "        vsota += 1\n",
    "\n",
    "print(vsota/m)"
   ]
  },
  {
   "cell_type": "markdown",
   "metadata": {},
   "source": [
    "Zgornja številka ponaraja s koliko procenti smo se poročili z najbolšo nevesto. Pozor! Najbolša nevesta v našem primeru ni nujno samo ena in ni nujno tista z oceno 100. Lahko se zgodi, da neveste z oceno 100 sploh ni takrat je najbolša nevesta tsita z oceno 99.\n"
   ]
  },
  {
   "cell_type": "code",
   "execution_count": 157,
   "metadata": {},
   "outputs": [],
   "source": [
    "vsotke = [0] * n\n",
    "for stop in range(n):\n",
    "    for i in range(m):\n",
    "        najbolsa_nevesta = max(tabela_partnerjev[i])\n",
    "        if NajbolsiPartner(tabela_partnerjev[i], stop) == najbolsa_nevesta :\n",
    "            vsotke[stop] += 1"
   ]
  },
  {
   "cell_type": "code",
   "execution_count": 158,
   "metadata": {},
   "outputs": [
    {
     "data": {
      "image/png": "[encoded data removed]",
      "text/plain": [
       "<Figure size 432x288 with 1 Axes>"
      ]
     },
     "metadata": {
      "needs_background": "light"
     },
     "output_type": "display_data"
    }
   ],
   "source": [
    "import matplotlib.pyplot as plt\n",
    "\n",
    "verjetnosti = [x / m for x in vsotke]\n",
    "x = [i for i in range(n)]\n",
    "\n",
    "plt.plot(x, verjetnosti)\n",
    "plt.show()"
   ]
  },
  {
   "cell_type": "markdown",
   "metadata": {},
   "source": [
    "Iz zgornjega grafa opazimo, da se krivulja ne spremeni bistveno od tiste, kjer nismo podvajali vrednosti. Pa vendar lahko opazimo dve stvari:\n",
    "1. Krivulja je res malenkost zamaknjena v desno, se pravi, se nam najbolj splača ustaviti malo kasneje, kot pri 1/e.\n",
    "2. Opazimo, da so verjetnosti, da končamo veliko večje. \n",
    "\n",
    "Druga točka je posebej presenetljiva, saj nisem pričakoval takega povečanja. Če se odločimo ustaviti optimalno, smo iz približno 1/3 verjetnosti, da bomo končali z najbolšo izbiro prišli kar na 1/2. NORO! "
   ]
  },
  {
   "cell_type": "code",
   "execution_count": 159,
   "metadata": {},
   "outputs": [
    {
     "data": {
      "text/plain": [
       "41"
      ]
     },
     "execution_count": 159,
     "metadata": {},
     "output_type": "execute_result"
    }
   ],
   "source": [
    "np.argmax(vsotke)"
   ]
  },
  {
   "cell_type": "markdown",
   "metadata": {},
   "source": [
    "Zgornja številka ponazarja, kdaj se je najbolše ustaviti. "
   ]
  },
  {
   "cell_type": "markdown",
   "metadata": {},
   "source": [
    "### Ali je razlika, če se zadovoljimo z nekom, ki je enako dober kot ženekdo pred njim?\n",
    "\n",
    "V tem razdelku odgovorimo na vprašanje, ali je razlika, če se zadovoljimo z nekom, ki je enako dober kot že nekdo pred njim. Ta razdelek je potreben, da preverimo, kaj se zgodi, če ima vsaka kandidatka naključno določeno številko od ena do sto (npr. dve imata lahko enako število), vendar pa ne bomo izbrali kandidatke, ki ima manjše ali enako število kot njena predhodnica. \n",
    "\n",
    "Tako res zmerimo vpliv zastavljenega vprašanja."
   ]
  },
  {
   "cell_type": "code",
   "execution_count": 160,
   "metadata": {},
   "outputs": [],
   "source": [
    "def NajbolsiPartner_večji(partnerji, stop):\n",
    "    \"\"\"Funkcija, ki vrne izbranega partnerja izmed partnerjev, \n",
    "    če smo smo jih zavračali do stop partnerja.\"\"\"\n",
    "    # partnerji ... seznam partnerjev\n",
    "    # stop ... kdaj nehamo zavračati vse partnerje \n",
    "\n",
    "    vzorec = partnerji[:stop] #vključno s stop    \n",
    "    poroka = partnerji[stop:]\n",
    "\n",
    "    najbolši = 0 \n",
    "    za_vedno = 0\n",
    "    for partner in vzorec:\n",
    "        if (partner > najbolši):\n",
    "            najbolši = partner\n",
    "   \n",
    "    for partner in poroka:\n",
    "        if (partner > najbolši): #Spremenimo, da je tudi enako vredu\n",
    "            za_vedno = partner\n",
    "            break\n",
    "   \n",
    "    return za_vedno"
   ]
  },
  {
   "cell_type": "code",
   "execution_count": 161,
   "metadata": {},
   "outputs": [],
   "source": [
    "vsotke = [0] * n\n",
    "for stop in range(n):\n",
    "    for i in range(m):\n",
    "        najbolsa_nevesta = max(tabela_partnerjev[i])\n",
    "        if NajbolsiPartner_večji(tabela_partnerjev[i], stop) == najbolsa_nevesta :\n",
    "            vsotke[stop] += 1"
   ]
  },
  {
   "cell_type": "code",
   "execution_count": 162,
   "metadata": {},
   "outputs": [
    {
     "data": {
      "image/png": "[encoded data removed]",
      "text/plain": [
       "<Figure size 432x288 with 1 Axes>"
      ]
     },
     "metadata": {
      "needs_background": "light"
     },
     "output_type": "display_data"
    }
   ],
   "source": [
    "verjetnosti = [x / m for x in vsotke]\n",
    "x = [i for i in range(n)]\n",
    "\n",
    "plt.plot(x, verjetnosti)\n",
    "plt.show()"
   ]
  },
  {
   "cell_type": "markdown",
   "metadata": {},
   "source": [
    "Pomembno je omeniti, da smo ta in zgornji graf proizvedli iz istih podatkov. \n",
    "Tako smo lahko prepričani v validnost naših rezultatov. Opazimo, da so procenti znatno nižji in, da je celotna krivulja zamaknjena v levo. Prav tako smiselno. \n",
    "\n",
    "Zanimivo je tudi, kaj se zgodi s krivuljo po tem ko doseže maksimum. Opazimo, da krivulja pada skoraj linearno. "
   ]
  },
  {
   "cell_type": "markdown",
   "metadata": {},
   "source": [
    "### Ocena od 1 do 10\n",
    "\n",
    "Vsakemu partnerju dodelimo oceno od 1 - 10. Za začetek si oglejmo kako se naš graf spremeni za $n = 100$.\n"
   ]
  },
  {
   "cell_type": "code",
   "execution_count": 163,
   "metadata": {},
   "outputs": [],
   "source": [
    "n = 100 # število kandidatk\n",
    "m = 10000 #kolikokrat poženemo proces iskanja najbolšega partnerja\n",
    "\n",
    "max_ocena = 10 # Kandidatka ima oceno od 1 do max_ocena"
   ]
  },
  {
   "cell_type": "code",
   "execution_count": 164,
   "metadata": {},
   "outputs": [],
   "source": [
    "tabela_partnerjev = {}\n",
    "for i in range(m):\n",
    "    partnerji = np.random.randint(1, max_ocena+1, size=n)\n",
    "    tabela_partnerjev[i] = partnerji"
   ]
  },
  {
   "cell_type": "code",
   "execution_count": 165,
   "metadata": {},
   "outputs": [],
   "source": [
    "vsotke = [0] * n\n",
    "vsotke_večji = [0] * n\n",
    "for stop in range(n):\n",
    "    for i in range(m):\n",
    "        najbolsa_nevesta = max(tabela_partnerjev[i])\n",
    "        if NajbolsiPartner(tabela_partnerjev[i], stop) == najbolsa_nevesta :\n",
    "            vsotke[stop] += 1\n",
    "        if NajbolsiPartner_večji(tabela_partnerjev[i], stop) == najbolsa_nevesta :\n",
    "            vsotke_večji[stop] += 1"
   ]
  },
  {
   "cell_type": "code",
   "execution_count": 166,
   "metadata": {},
   "outputs": [
    {
     "data": {
      "image/png": "[encoded data removed]",
      "text/plain": [
       "<Figure size 432x288 with 1 Axes>"
      ]
     },
     "metadata": {
      "needs_background": "light"
     },
     "output_type": "display_data"
    }
   ],
   "source": [
    "verjetnosti = [x / m for x in vsotke]\n",
    "x = [i for i in range(n)]\n",
    "\n",
    "plt.plot(x, verjetnosti)\n",
    "plt.show()"
   ]
  },
  {
   "cell_type": "code",
   "execution_count": 167,
   "metadata": {},
   "outputs": [
    {
     "data": {
      "text/plain": [
       "44"
      ]
     },
     "execution_count": 167,
     "metadata": {},
     "output_type": "execute_result"
    }
   ],
   "source": [
    "np.argmax(vsotke)"
   ]
  },
  {
   "cell_type": "markdown",
   "metadata": {},
   "source": [
    "Opazimo, da je v tem primeru verjetnost seveda res znatno višja, saj že če izberemo naključno prvega bomo imeli več kot $\\frac{1}{10}$ možnosti, da bo najbolši. Tokrat se nam splača čakati dlje časa (pregledati in zavrniti večji vzorec), saj želimo najti tisto osebo z največjim številom, ki so bo skoraj gotovo ponovilo (zaradi velikega vzorca 100 kandidatk).\n",
    "\n",
    "Na izgled zgleda, kot da se krivulja čisto zgladi, kar ni res. Lahko pogledamo samo sredinski delež. "
   ]
  },
  {
   "cell_type": "code",
   "execution_count": 168,
   "metadata": {},
   "outputs": [
    {
     "data": {
      "image/png": "[encoded data removed]",
      "text/plain": [
       "<Figure size 432x288 with 1 Axes>"
      ]
     },
     "metadata": {
      "needs_background": "light"
     },
     "output_type": "display_data"
    }
   ],
   "source": [
    "verjetnosti = [x / m for x in vsotke]\n",
    "x = [i for i in range(n)]\n",
    "\n",
    "plt.plot(x[15:80], verjetnosti[15:80])\n",
    "plt.show()"
   ]
  },
  {
   "cell_type": "code",
   "execution_count": 169,
   "metadata": {},
   "outputs": [
    {
     "data": {
      "text/plain": [
       "44"
      ]
     },
     "execution_count": 169,
     "metadata": {},
     "output_type": "execute_result"
    }
   ],
   "source": [
    "np.argmax(vsotke)"
   ]
  },
  {
   "cell_type": "markdown",
   "metadata": {},
   "source": [
    "Primerjajmo s grafom, ko želimo večjega. Predvidevamo, da bo veljala že zgornja ugotovitev. Graf zamaknjen v levo in manjše verjetnosti."
   ]
  },
  {
   "cell_type": "code",
   "execution_count": 170,
   "metadata": {},
   "outputs": [
    {
     "data": {
      "image/png": "[encoded data removed]",
      "text/plain": [
       "<Figure size 432x288 with 1 Axes>"
      ]
     },
     "metadata": {
      "needs_background": "light"
     },
     "output_type": "display_data"
    }
   ],
   "source": [
    "verjetnosti = [x / m for x in vsotke_večji]\n",
    "x = [i for i in range(n)]\n",
    "\n",
    "plt.plot(x, verjetnosti)\n",
    "plt.show()"
   ]
  },
  {
   "cell_type": "code",
   "execution_count": 171,
   "metadata": {},
   "outputs": [
    {
     "data": {
      "text/plain": [
       "4"
      ]
     },
     "execution_count": 171,
     "metadata": {},
     "output_type": "execute_result"
    }
   ],
   "source": [
    "np.argmax(vsotke_večji)"
   ]
  },
  {
   "cell_type": "markdown",
   "metadata": {},
   "source": [
    "Pri tem procesu izbiranja moramo paziti, saj če prehitro spoznamo osebo z največjo številko ostanemo sami. Zato naša funkcija pri velikih številkah vrača verjetnost, da spoznamo najbolšo osebo, skoraj 0.\n"
   ]
  },
  {
   "cell_type": "markdown",
   "metadata": {},
   "source": [
    "## Normalna porazdelitev\n",
    "\n",
    "V zadnjem podpoglavju tega poglavja si ogledamo, kajse zgodi, če številko osebe ne izberemo unitarno, pač pa gede na normalno porzdelitev. (To pomeni, da bo tistih z vrednostjo 50  najbrž več kot tistih z vrednostjo 1 ali 100)."
   ]
  },
  {
   "cell_type": "code",
   "execution_count": 172,
   "metadata": {},
   "outputs": [],
   "source": [
    "n = 100 # število kandidatk\n",
    "m = 10000 #kolikokrat poženemo proces iskanja najbolšega partnerja"
   ]
  },
  {
   "cell_type": "markdown",
   "metadata": {},
   "source": [
    "Želimo imati normalno porazdelitev s povprečjem v $\\frac{n}{2}$ ter priti čim bližje temu, da bi zajeli vsa števila od 0 do $n$ (brez tistih večjih od n), zato scale nastavimo na $\\frac{\\frac{n}{2}}{3}$ oz. $\\frac{n}{6}$.   "
   ]
  },
  {
   "cell_type": "code",
   "execution_count": 184,
   "metadata": {},
   "outputs": [],
   "source": [
    "x = np.random.normal(loc=n/2, scale=n/6, size=(m, n))\n",
    "x =  np.around(x, decimals=0)"
   ]
  },
  {
   "cell_type": "code",
   "execution_count": 185,
   "metadata": {},
   "outputs": [
    {
     "data": {
      "text/plain": [
       "92"
      ]
     },
     "execution_count": 185,
     "metadata": {},
     "output_type": "execute_result"
    }
   ],
   "source": [
    "v = 0\n",
    "for i in range(m):\n",
    "    v += max(x[i]) \n",
    "round(v/m)"
   ]
  },
  {
   "cell_type": "markdown",
   "metadata": {},
   "source": [
    "S tem smo dosegli, da redko dobimo število večje od $n$, ampak za ceno tega,da imamo v povprečju maksimalno število kar za desetino manjše od $n$. Če bi radi nastavili, da bi bil maksimum nekje okoli $n$, potem za varianco vzamemo $\\frac{n}{5}$ namesto $\\frac{n}{6}$."
   ]
  },
  {
   "cell_type": "code",
   "execution_count": 186,
   "metadata": {},
   "outputs": [],
   "source": [
    "y = np.random.normal(loc=n/2, scale=n/5, size=(m, n))\n",
    "y =  np.around(y, decimals=0)"
   ]
  },
  {
   "cell_type": "code",
   "execution_count": 187,
   "metadata": {},
   "outputs": [
    {
     "data": {
      "text/plain": [
       "100"
      ]
     },
     "execution_count": 187,
     "metadata": {},
     "output_type": "execute_result"
    }
   ],
   "source": [
    "v = 0\n",
    "for i in range(m):\n",
    "    v += max(y[i]) \n",
    "round(v/m)"
   ]
  },
  {
   "cell_type": "markdown",
   "metadata": {},
   "source": [
    "Poglejmo grafa tako za x kot y."
   ]
  },
  {
   "cell_type": "code",
   "execution_count": 188,
   "metadata": {},
   "outputs": [],
   "source": [
    "vsotke_x = [0] * n\n",
    "vsotke_y = [0] * n\n",
    "\n",
    "for stop in range(n):\n",
    "    for i in range(m):\n",
    "        najbolsa_nevesta_x = max(x[i])\n",
    "        najbolsa_nevesta_y = max(y[i])\n",
    "        if NajbolsiPartner(x[i], stop) == najbolsa_nevesta_x :\n",
    "            vsotke_x[stop] += 1\n",
    "        if NajbolsiPartner(y[i], stop) == najbolsa_nevesta_y :\n",
    "            vsotke_y[stop] += 1"
   ]
  },
  {
   "cell_type": "code",
   "execution_count": 189,
   "metadata": {},
   "outputs": [
    {
     "data": {
      "image/png": "[encoded data removed]",
      "text/plain": [
       "<Figure size 432x288 with 1 Axes>"
      ]
     },
     "metadata": {
      "needs_background": "light"
     },
     "output_type": "display_data"
    }
   ],
   "source": [
    "verjetnosti_x = [x / m for x in vsotke_x]\n",
    "verjetnosti_y = [x / m for x in vsotke_y]\n",
    "t = [i for i in range(n)]\n",
    "\n",
    "plt.plot(t, verjetnosti_x)\n",
    "plt.plot(t, verjetnosti_y)\n",
    "plt.show()"
   ]
  },
  {
   "cell_type": "markdown",
   "metadata": {},
   "source": [
    "Funkcija verjetnosti, da izberemo najbolšo nevesto je enaka, ne glede na to kakšno varianco vzamemo. \n",
    "To je po svoje zelo smiselno, saj "
   ]
  },
  {
   "cell_type": "code",
   "execution_count": 190,
   "metadata": {},
   "outputs": [],
   "source": [
    "vsotke_x = [0] * n\n",
    "vsotke_y = [0] * n\n",
    "\n",
    "for stop in range(n):\n",
    "    for i in range(m):\n",
    "        najbolsa_nevesta_x = max(x[i])\n",
    "        najbolsa_nevesta_y = max(y[i])\n",
    "        if NajbolsiPartner_večji(x[i], stop) == najbolsa_nevesta_x :\n",
    "            vsotke_x[stop] += 1\n",
    "        if NajbolsiPartner_večji(y[i], stop) == najbolsa_nevesta_y :\n",
    "            vsotke_y[stop] += 1"
   ]
  },
  {
   "cell_type": "code",
   "execution_count": 191,
   "metadata": {},
   "outputs": [
    {
     "data": {
      "image/png": "[encoded data removed]",
      "text/plain": [
       "<Figure size 432x288 with 1 Axes>"
      ]
     },
     "metadata": {
      "needs_background": "light"
     },
     "output_type": "display_data"
    }
   ],
   "source": [
    "verjetnosti_x = [x / m for x in vsotke_x]\n",
    "verjetnosti_y = [x / m for x in vsotke_y]\n",
    "t = [i for i in range(n)]\n",
    "\n",
    "plt.plot(t, verjetnosti_x)\n",
    "plt.plot(t, verjetnosti_y)\n",
    "plt.show()"
   ]
  }
 ],
 "metadata": {
  "kernelspec": {
   "display_name": "Python 3",
   "language": "python",
   "name": "python3"
  },
  "language_info": {
   "codemirror_mode": {
    "name": "ipython",
    "version": 3
   },
   "file_extension": ".py",
   "mimetype": "text/x-python",
   "name": "python",
   "nbconvert_exporter": "python",
   "pygments_lexer": "ipython3",
   "version": "3.8.2"
  }
 },
 "nbformat": 4,
 "nbformat_minor": 2
}
