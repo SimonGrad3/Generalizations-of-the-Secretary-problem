{
 "cells": [
  {
   "cell_type": "markdown",
   "metadata": {},
   "source": [
    "## 3 \n",
    "Is there a distinction when considering individuals of equal suitability, and does this affect our results? Moreover, does our outcome differ depending on whether we strictly prefer a superior candidate or are content with someone ranking equally to candidates we’ve previously encountered?"
   ]
  },
  {
   "cell_type": "code",
   "execution_count": 3,
   "metadata": {},
   "outputs": [],
   "source": [
    "import pandas as pd\n",
    "import random\n",
    "\n",
    "n = 100 # število kandidatk\n",
    "max_ocena = 10 # Kandidatka ima oceno od 1 do max_ocena\n",
    "\n",
    "m = 10000 #kolikokrat poženemo proces iskanja najbolšega partnerja"
   ]
  },
  {
   "cell_type": "markdown",
   "metadata": {},
   "source": [
    "Nemudoma se pojavi vprašanje, kako bomo določili oceno kandidatki? \n",
    "\n",
    "V realnem svetu bi vsaki kandidatki posebej dali oceno, ki si jo zasluži.Pri našem modelu je tako najbol smiselno, če vsaki kandidatki določimo naključno oceno od 1 do max_ocena. Seveda se v tem skriva 'napaka' realnosti, da lahko izbiramo med samimi enkami. \n",
    "\n",
    "Druga opcija je v realnem svetu manj verjetna, ampak bolj matematično konsistentna. Določimo, da imamo enako število kandidatk z oceno ena, dva, tri, ... vse do max_ocena. Torej poskrbimo, da je število vseh kandidatk z neko številko enaka.\n",
    "\n",
    "Če smo zgoraj obravnavali zgolj unitarne porazdelitve, bi lahko podobno naredili še z normalno porazdelitvijo ocen kandidatk (torej tistih z oceno 5 bo več kot tistih z oceno 1 ali 10).  "
   ]
  },
  {
   "cell_type": "markdown",
   "metadata": {},
   "source": [
    "Še naprej se lahko vprašamo, kako bo vplivala na zgornje porazdelitve, če se odločimo spreminjati max_oceno v povezavi z n (število kandidatk). "
   ]
  },
  {
   "cell_type": "markdown",
   "metadata": {},
   "source": [
    "Kar hočem povedati možnosti je res ogromno. Zato se bomo osredotočili le na par opcij"
   ]
  },
  {
   "cell_type": "markdown",
   "metadata": {},
   "source": [
    "## Realni svet  (max_ocena = n) \n"
   ]
  },
  {
   "cell_type": "markdown",
   "metadata": {},
   "source": [
    "Ob premisleku se mi zdi to najbol realno. "
   ]
  },
  {
   "cell_type": "code",
   "execution_count": 4,
   "metadata": {},
   "outputs": [],
   "source": [
    "n = 100 # število kandidatk\n",
    "max_ocena = n # Kandidatka ima oceno od 1 do max_ocena\n",
    "m = 10000 #kolikokrat poženemo proces iskanja najbolšega partnerja"
   ]
  },
  {
   "cell_type": "code",
   "execution_count": 5,
   "metadata": {},
   "outputs": [],
   "source": [
    "import numpy as np\n",
    "\n",
    "tabela_partnerjev = {}\n",
    "for i in range(m):\n",
    "    partnerji = np.random.randint(1, max_ocena+1, size=n)\n",
    "    tabela_partnerjev[i] = partnerji"
   ]
  },
  {
   "cell_type": "code",
   "execution_count": 8,
   "metadata": {},
   "outputs": [],
   "source": [
    "def NajbolsiPartner(partnerji, stop):\n",
    "    \"\"\"Funkcija, ki vrne izbranega partnerja izmed partnerjev, \n",
    "    če smo smo jih zavračali do stop partnerja.\"\"\"\n",
    "    # partnerji ... seznam partnerjev\n",
    "    # stop ... kdaj nehamo zavračati vse partnerje \n",
    "\n",
    "    vzorec = partnerji[:stop] #vključno s stop\n",
    "    poroka = partnerji[stop:]\n",
    "\n",
    "    najbolši = 0 \n",
    "    za_vedno = 0\n",
    "    for partner in vzorec:\n",
    "        if (partner > najbolši):\n",
    "            najbolši = partner\n",
    "   \n",
    "    for partner in poroka:\n",
    "        if (partner >= najbolši):\n",
    "            za_vedno = partner\n",
    "            break\n",
    "   \n",
    "    return za_vedno"
   ]
  },
  {
   "cell_type": "code",
   "execution_count": 9,
   "metadata": {},
   "outputs": [
    {
     "name": "stdout",
     "output_type": "stream",
     "text": [
      "0.3299\n"
     ]
    }
   ],
   "source": [
    "vsota = 0 \n",
    "for i in range(m):\n",
    "    if NajbolsiPartner(tabela_partnerjev[i], round(n * 0.36787944)) == n :\n",
    "        vsota += 1\n",
    "\n",
    "print(vsota/m)"
   ]
  },
  {
   "cell_type": "code",
   "execution_count": 10,
   "metadata": {},
   "outputs": [],
   "source": [
    "vsotke = [0] * n\n",
    "for stop in range(n):\n",
    "    for i in range(m):\n",
    "        if NajbolsiPartner(tabela_partnerjev[i], stop) == n :\n",
    "            vsotke[stop] += 1"
   ]
  },
  {
   "cell_type": "code",
   "execution_count": 11,
   "metadata": {},
   "outputs": [
    {
     "data": {
      "image/png": "[encoded data removed]",
      "text/plain": [
       "<Figure size 432x288 with 1 Axes>"
      ]
     },
     "metadata": {
      "needs_background": "light"
     },
     "output_type": "display_data"
    }
   ],
   "source": [
    "import matplotlib.pyplot as plt\n",
    "\n",
    "verjetnosti = [x / m for x in vsotke]\n",
    "x = [i for i in range(n)]\n",
    "\n",
    "plt.plot(x, verjetnosti)\n",
    "plt.show()"
   ]
  }
 ],
 "metadata": {
  "kernelspec": {
   "display_name": "Python 3",
   "language": "python",
   "name": "python3"
  },
  "language_info": {
   "codemirror_mode": {
    "name": "ipython",
    "version": 3
   },
   "file_extension": ".py",
   "mimetype": "text/x-python",
   "name": "python",
   "nbconvert_exporter": "python",
   "pygments_lexer": "ipython3",
   "version": "3.8.2"
  }
 },
 "nbformat": 4,
 "nbformat_minor": 2
}
