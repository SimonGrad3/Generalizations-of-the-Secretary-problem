{
 "cells": [
  {
   "cell_type": "markdown",
   "metadata": {},
   "source": [
    "# KDAJ SE USTAVITI"
   ]
  },
  {
   "cell_type": "markdown",
   "metadata": {},
   "source": [
    "## 1. UVOD\n",
    "V spodnjem poročilu predstavim problem sekretarke in njene razširitve."
   ]
  },
  {
   "cell_type": "markdown",
   "metadata": {},
   "source": [
    "## 2. Problem iskanja neveste"
   ]
  },
  {
   "cell_type": "markdown",
   "metadata": {},
   "source": [
    "### Osnovni problem"
   ]
  },
  {
   "cell_type": "markdown",
   "metadata": {},
   "source": [
    "Uvozimo naše potencialne neveste, ki smo jih oštevilčili od 1 - 100. (Kjer 1 predstavlja najslabšo izbiro in 100 najbolšo)."
   ]
  },
  {
   "cell_type": "code",
   "execution_count": 68,
   "metadata": {},
   "outputs": [],
   "source": [
    "import pandas as pd\n",
    "import random\n",
    "pd.options.display.max_rows = 15 #zaradi preglednosti nastavimo max št. vrstic na 15\n",
    "n = 100 # število kandidatk\n",
    "m = 10000 #kolikokrat poženemo proces iskanja najbolšega partnerja\n",
    "\n",
    "tabela_partnerjev = {}\n",
    "for i in range(m):\n",
    "    partnerji = list(range(1,n+1))\n",
    "    random.shuffle(partnerji)\n",
    "    tabela_partnerjev[i] = partnerji"
   ]
  },
  {
   "cell_type": "markdown",
   "metadata": {},
   "source": [
    "Definiramo funkcijo NajbolšiPartner"
   ]
  },
  {
   "cell_type": "code",
   "execution_count": 69,
   "metadata": {},
   "outputs": [],
   "source": [
    "def NajbolsiPartner(partnerji, stop):\n",
    "    \"\"\"Funkcija, ki vrne izbranega partnerja izmed partnerjev, \n",
    "    če smo smo jih zavračali do stop partnerja.\"\"\"\n",
    "    # partnerji ... seznam partnerjev\n",
    "    # stop ... kdaj nehamo zavračati vse partnerje \n",
    "\n",
    "    vzorec = partnerji[:stop] #vključno s stop\n",
    "    poroka = partnerji[stop:]\n",
    "\n",
    "    najbolši = 0 \n",
    "    za_vedno = 0\n",
    "    for partner in vzorec:\n",
    "        if (partner > najbolši):\n",
    "            najbolši = partner\n",
    "   \n",
    "    for partner in poroka:\n",
    "        if (partner > najbolši):\n",
    "            za_vedno = partner\n",
    "            break\n",
    "   \n",
    "    return za_vedno"
   ]
  },
  {
   "cell_type": "code",
   "execution_count": 70,
   "metadata": {},
   "outputs": [
    {
     "name": "stdout",
     "output_type": "stream",
     "text": [
      "0.3715\n"
     ]
    }
   ],
   "source": [
    "vsota = 0 \n",
    "for i in range(m):\n",
    "    if NajbolsiPartner(tabela_partnerjev[i], round(n * 0.36787944)) == n :\n",
    "        vsota += 1\n",
    "\n",
    "print(vsota/m)"
   ]
  },
  {
   "cell_type": "markdown",
   "metadata": {},
   "source": [
    "Zgornja številka ponazarja; s kolikšnim procentom smo se poročili z najbolšo nevesto."
   ]
  },
  {
   "cell_type": "markdown",
   "metadata": {},
   "source": [
    "Sedaj bomo preverili, če je zgoraj uporabljen 1/e res najbolša točka ustavitve."
   ]
  },
  {
   "cell_type": "code",
   "execution_count": 71,
   "metadata": {},
   "outputs": [],
   "source": [
    "vsotke = [0] * n\n",
    "for stop in range(n):\n",
    "    for i in range(m):\n",
    "        if NajbolsiPartner(tabela_partnerjev[i], stop) == n :\n",
    "            vsotke[stop] += 1"
   ]
  },
  {
   "cell_type": "code",
   "execution_count": 72,
   "metadata": {},
   "outputs": [
    {
     "data": {
      "image/png": "[encoded data removed]",
      "text/plain": [
       "<Figure size 432x288 with 1 Axes>"
      ]
     },
     "metadata": {
      "needs_background": "light"
     },
     "output_type": "display_data"
    }
   ],
   "source": [
    "import matplotlib.pyplot as plt\n",
    "\n",
    "verjetnosti = [x / m for x in vsotke]\n",
    "x = [i for i in range(n)]\n",
    "\n",
    "plt.plot(x, verjetnosti)\n",
    "plt.show()"
   ]
  },
  {
   "cell_type": "code",
   "execution_count": 73,
   "metadata": {},
   "outputs": [
    {
     "data": {
      "text/plain": [
       "36"
      ]
     },
     "execution_count": 73,
     "metadata": {},
     "output_type": "execute_result"
    }
   ],
   "source": [
    "import numpy as np\n",
    "np.argmax(vsotke)"
   ]
  },
  {
   "cell_type": "markdown",
   "metadata": {},
   "source": [
    "S tem smo potrdili, da se nam res najbol splača ustaviti pri približno 37 partnerju."
   ]
  },
  {
   "cell_type": "markdown",
   "metadata": {},
   "source": [
    "Kaj pa, če zmanjšamo število kandidatov na 4? Ali pa na 20, 30, 50, 500, 1000? Ali naše pravilo $$max = round(n * 0.36787944)$$ še vedno drži?\n"
   ]
  },
  {
   "cell_type": "code",
   "execution_count": null,
   "metadata": {},
   "outputs": [],
   "source": []
  },
  {
   "cell_type": "markdown",
   "metadata": {},
   "source": [
    "## 3 \n",
    "Is there a distinction when considering individuals of equal suitability, and does this affect our results? Moreover, does our outcome differ depending on whether we strictly prefer a superior candidate or are content with someone ranking equally to candidates we’ve previously encountered?"
   ]
  },
  {
   "cell_type": "code",
   "execution_count": null,
   "metadata": {},
   "outputs": [],
   "source": []
  }
 ],
 "metadata": {
  "kernelspec": {
   "display_name": "Python 3",
   "language": "python",
   "name": "python3"
  },
  "language_info": {
   "codemirror_mode": {
    "name": "ipython",
    "version": 3
   },
   "file_extension": ".py",
   "mimetype": "text/x-python",
   "name": "python",
   "nbconvert_exporter": "python",
   "pygments_lexer": "ipython3",
   "version": "3.8.2"
  }
 },
 "nbformat": 4,
 "nbformat_minor": 2
}
